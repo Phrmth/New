{
  "nbformat": 4,
  "nbformat_minor": 0,
  "metadata": {
    "colab": {
      "name": "Residual network (RESNETs) from scratch on MNIST.ipynb",
      "provenance": [],
      "collapsed_sections": [],
      "authorship_tag": "ABX9TyNilAk0H63T3wb+lx8z3cpD",
      "include_colab_link": true
    },
    "kernelspec": {
      "name": "python3",
      "display_name": "Python 3"
    },
    "accelerator": "GPU"
  },
  "cells": [
    {
      "cell_type": "markdown",
      "metadata": {
        "id": "view-in-github",
        "colab_type": "text"
      },
      "source": [
        "<a href=\"https://colab.research.google.com/github/Phrmth/New/blob/master/Resnet18_on_MNIST.ipynb\" target=\"_parent\"><img src=\"https://colab.research.google.com/assets/colab-badge.svg\" alt=\"Open In Colab\"/></a>"
      ]
    },
    {
      "cell_type": "code",
      "metadata": {
        "id": "QCqlXXs_1McO",
        "colab_type": "code",
        "colab": {}
      },
      "source": [
        "# import packages \n",
        "\n",
        "import numpy as np\n",
        "import pandas as pd\n",
        "import matplotlib.pyplot as plt\n",
        "from torch import tensor\n",
        "from torch import nn\n",
        "import torch.nn.functional as F\n",
        "import torch\n",
        "from torch import optim\n",
        "import torchvision\n",
        "import torchvision.transforms as transforms\n",
        "from torch.utils.data import DataLoader, TensorDataset"
      ],
      "execution_count": 0,
      "outputs": []
    },
    {
      "cell_type": "code",
      "metadata": {
        "id": "kQzFc4TnJ4KZ",
        "colab_type": "code",
        "colab": {}
      },
      "source": [
        "\n",
        "if torch.cuda.is_available():\n",
        " device = torch.device(\"cuda\")\n",
        "else : device = torch.device(\"cpu\")\n",
        "\n",
        "# Hyper-parameters \n",
        "num_epochs = 20\n",
        "batch_size = 64\n",
        "learning_rate = 0.001\n",
        "\n",
        "# Image preprocessing modules\n",
        "# tfs = transforms.Compose([\n",
        "                          \n",
        "#     transforms.ToPILImage(),\n",
        "#     transforms.Pad(4),\n",
        "#     transforms.Resize(224,224),\n",
        "#     # transforms.Grayscale(num_output_channels=3), # for 3 channel image\n",
        "#     transforms.RandomHorizontalFlip(),\n",
        "#     transforms.RandomCrop(32),\n",
        "#     transforms.ToTensor()])\n",
        "\n",
        "# tfs = transforms.Compose([\n",
        "#                           # transforms.ToPILImage(),\n",
        "#                           transforms.Resize((224,224)),\n",
        "                          \n",
        "#                           # transforms.RandomHorizontalFlip(),\n",
        "#                           # transforms.RandomPerspective(),\n",
        "#                           transforms.ToTensor(), \n",
        "#                           # transforms.Normalize([0.5], [0.5])\n",
        "#                           ])\n",
        "\n",
        "\n",
        "train_transforms = transforms.Compose(\n",
        "    [\n",
        "    #  transforms.ToPILImage(),\n",
        "     transforms.Resize((224,224)),\n",
        "     transforms.RandomAffine(degrees=45, translate=(0.1, 0.1), scale=(0.8, 1.2)),\n",
        "     transforms.CenterCrop(224),\n",
        "     transforms.ToTensor(),\n",
        "     transforms.Normalize(mean=(0.5,), std=(0.5,))])\n",
        "\n",
        "val_test_transforms = transforms.Compose(\n",
        "    [\n",
        "    #  transforms.ToPILImage(),\n",
        "     transforms.ToTensor(),\n",
        "     transforms.Normalize(mean=(0.5,), std=(0.5,))])"
      ],
      "execution_count": 0,
      "outputs": []
    },
    {
      "cell_type": "code",
      "metadata": {
        "id": "YKmuFq5A1vaE",
        "colab_type": "code",
        "colab": {}
      },
      "source": [
        "# Data\n",
        "# MNIST dataset \n",
        "train_dataset = torchvision.datasets.MNIST(root='../../data', \n",
        "                                           train=True, \n",
        "                                           transform = transforms.ToTensor(),  \n",
        "                                           download=True)\n",
        "\n",
        "test_dataset = torchvision.datasets.MNIST(root='../../data', \n",
        "                                          train=False, \n",
        "                                          transform = transforms.ToTensor())\n",
        "\n",
        "# Data loader\n",
        "train_loader = torch.utils.data.DataLoader(dataset=train_dataset, \n",
        "                                           batch_size=batch_size, \n",
        "                                           shuffle=True)\n",
        "\n",
        "test_loader = torch.utils.data.DataLoader(dataset=test_dataset, \n",
        "                                          batch_size=batch_size*2, \n",
        "                                          shuffle=False)"
      ],
      "execution_count": 0,
      "outputs": []
    },
    {
      "cell_type": "code",
      "metadata": {
        "id": "_9IEFRtHAmKZ",
        "colab_type": "code",
        "colab": {}
      },
      "source": [
        "x,_= next(iter(train_loader))"
      ],
      "execution_count": 0,
      "outputs": []
    },
    {
      "cell_type": "code",
      "metadata": {
        "id": "j_WvETl8AvrV",
        "colab_type": "code",
        "colab": {
          "base_uri": "https://localhost:8080/",
          "height": 34
        },
        "outputId": "ff0a5181-23c3-47ff-bfca-7867a437c053"
      },
      "source": [
        "x.shape"
      ],
      "execution_count": 72,
      "outputs": [
        {
          "output_type": "execute_result",
          "data": {
            "text/plain": [
              "torch.Size([64, 1, 224, 224])"
            ]
          },
          "metadata": {
            "tags": []
          },
          "execution_count": 72
        }
      ]
    },
    {
      "cell_type": "code",
      "metadata": {
        "id": "WUMUvxp4THMZ",
        "colab_type": "code",
        "colab": {}
      },
      "source": [
        "x[0]"
      ],
      "execution_count": 0,
      "outputs": []
    },
    {
      "cell_type": "code",
      "metadata": {
        "id": "nbJ5_nMeH3oL",
        "colab_type": "code",
        "colab": {
          "base_uri": "https://localhost:8080/",
          "height": 286
        },
        "outputId": "741f93e2-2c00-4962-9645-feedd6fdec0b"
      },
      "source": [
        "plt.imshow(x[0].view(224,224))"
      ],
      "execution_count": 73,
      "outputs": [
        {
          "output_type": "execute_result",
          "data": {
            "text/plain": [
              "<matplotlib.image.AxesImage at 0x7f089a1796a0>"
            ]
          },
          "metadata": {
            "tags": []
          },
          "execution_count": 73
        },
        {
          "output_type": "display_data",
          "data": {
            "image/png": "[encoded data removed]",
            "text/plain": [
              "<Figure size 432x288 with 1 Axes>"
            ]
          },
          "metadata": {
            "tags": [],
            "needs_background": "light"
          }
        }
      ]
    },
    {
      "cell_type": "code",
      "metadata": {
        "id": "Zk8R68fybGzv",
        "colab_type": "code",
        "colab": {
          "base_uri": "https://localhost:8080/",
          "height": 246
        },
        "outputId": "9e2d83d5-ff9c-4448-d3c8-2a1085559428"
      },
      "source": [
        "figure = plt.figure()\n",
        "num_of_images = 60\n",
        "for index in range(1, num_of_images + 1):\n",
        "    plt.subplot(6, 10, index)\n",
        "    plt.axis('off')\n",
        "    plt.imshow(x[index].numpy().squeeze())"
      ],
      "execution_count": 30,
      "outputs": [
        {
          "output_type": "display_data",
          "data": {
            "image/png": "[encoded data removed]",
            "text/plain": [
              "<Figure size 432x288 with 60 Axes>"
            ]
          },
          "metadata": {
            "tags": [],
            "needs_background": "light"
          }
        }
      ]
    },
    {
      "cell_type": "code",
      "metadata": {
        "id": "-0EfneVoVZz5",
        "colab_type": "code",
        "colab": {}
      },
      "source": [
        "class ResBlock(nn.Module):\n",
        "    def __init__(self, nf):\n",
        "        super().__init__()\n",
        "        self.conv1 = conv(nf,nf)\n",
        "        self.conv2 = conv(nf,nf)\n",
        "        \n",
        "    def forward(self, x): return x + self.conv2(self.conv1(x))\n",
        "\n",
        "res_block = ResBlock\n",
        "\n",
        "# Refactoring - Conv layer, BatchNorm and ReLU sequence \n",
        "def conv(ni,nf, stride = 1): return nn.Sequential(nn.Conv2d(ni, nf, kernel_size=3, stride=stride , padding=1), \n",
        "                                      nn.ReLU(),\n",
        "                                      nn.BatchNorm2d(nf)\n",
        "                                       \n",
        "                                       )\n",
        "def conv_and_res(ni,nf): return nn.Sequential(conv(ni, nf, stride = 2), res_block(nf))\n",
        "\n",
        "\n",
        "model = nn.Sequential(\n",
        "    conv_and_res(1, 8), #14\n",
        "    conv_and_res(8, 16),  #7\n",
        "    conv_and_res(16, 32),  # 4\n",
        "    conv_and_res(32, 16), # 2\n",
        "    conv(16, 10, stride = 2),    #1\n",
        "    nn.Flatten()\n",
        ")"
      ],
      "execution_count": 0,
      "outputs": []
    },
    {
      "cell_type": "code",
      "metadata": {
        "id": "I32DGB5Fj8dE",
        "colab_type": "code",
        "colab": {}
      },
      "source": [
        "model"
      ],
      "execution_count": 0,
      "outputs": []
    },
    {
      "cell_type": "code",
      "metadata": {
        "id": "VooESESILyyg",
        "colab_type": "code",
        "colab": {
          "base_uri": "https://localhost:8080/",
          "height": 1000
        },
        "outputId": "1d38a3f1-5d4c-4947-9351-57f86eca3308"
      },
      "source": [
        "from torchvision import models\n",
        "from torchsummary import summary\n",
        "\n",
        "summary(resnet18.cuda(), (1,224,224))"
      ],
      "execution_count": 75,
      "outputs": [
        {
          "output_type": "stream",
          "text": [
            "----------------------------------------------------------------\n",
            "        Layer (type)               Output Shape         Param #\n",
            "================================================================\n",
            "            Conv2d-1         [-1, 64, 112, 112]           3,136\n",
            "       BatchNorm2d-2         [-1, 64, 112, 112]             128\n",
            "              ReLU-3         [-1, 64, 112, 112]               0\n",
            "         MaxPool2d-4           [-1, 64, 56, 56]               0\n",
            "            Conv2d-5           [-1, 64, 56, 56]          36,864\n",
            "       BatchNorm2d-6           [-1, 64, 56, 56]             128\n",
            "              ReLU-7           [-1, 64, 56, 56]               0\n",
            "            Conv2d-8           [-1, 64, 56, 56]          36,864\n",
            "       BatchNorm2d-9           [-1, 64, 56, 56]             128\n",
            "             ReLU-10           [-1, 64, 56, 56]               0\n",
            "       BasicBlock-11           [-1, 64, 56, 56]               0\n",
            "           Conv2d-12           [-1, 64, 56, 56]          36,864\n",
            "      BatchNorm2d-13           [-1, 64, 56, 56]             128\n",
            "             ReLU-14           [-1, 64, 56, 56]               0\n",
            "           Conv2d-15           [-1, 64, 56, 56]          36,864\n",
            "      BatchNorm2d-16           [-1, 64, 56, 56]             128\n",
            "             ReLU-17           [-1, 64, 56, 56]               0\n",
            "       BasicBlock-18           [-1, 64, 56, 56]               0\n",
            "           Conv2d-19          [-1, 128, 28, 28]          73,728\n",
            "      BatchNorm2d-20          [-1, 128, 28, 28]             256\n",
            "             ReLU-21          [-1, 128, 28, 28]               0\n",
            "           Conv2d-22          [-1, 128, 28, 28]         147,456\n",
            "      BatchNorm2d-23          [-1, 128, 28, 28]             256\n",
            "           Conv2d-24          [-1, 128, 28, 28]           8,192\n",
            "      BatchNorm2d-25          [-1, 128, 28, 28]             256\n",
            "             ReLU-26          [-1, 128, 28, 28]               0\n",
            "       BasicBlock-27          [-1, 128, 28, 28]               0\n",
            "           Conv2d-28          [-1, 128, 28, 28]         147,456\n",
            "      BatchNorm2d-29          [-1, 128, 28, 28]             256\n",
            "             ReLU-30          [-1, 128, 28, 28]               0\n",
            "           Conv2d-31          [-1, 128, 28, 28]         147,456\n",
            "      BatchNorm2d-32          [-1, 128, 28, 28]             256\n",
            "             ReLU-33          [-1, 128, 28, 28]               0\n",
            "       BasicBlock-34          [-1, 128, 28, 28]               0\n",
            "           Conv2d-35          [-1, 256, 14, 14]         294,912\n",
            "      BatchNorm2d-36          [-1, 256, 14, 14]             512\n",
            "             ReLU-37          [-1, 256, 14, 14]               0\n",
            "           Conv2d-38          [-1, 256, 14, 14]         589,824\n",
            "      BatchNorm2d-39          [-1, 256, 14, 14]             512\n",
            "           Conv2d-40          [-1, 256, 14, 14]          32,768\n",
            "      BatchNorm2d-41          [-1, 256, 14, 14]             512\n",
            "             ReLU-42          [-1, 256, 14, 14]               0\n",
            "       BasicBlock-43          [-1, 256, 14, 14]               0\n",
            "           Conv2d-44          [-1, 256, 14, 14]         589,824\n",
            "      BatchNorm2d-45          [-1, 256, 14, 14]             512\n",
            "             ReLU-46          [-1, 256, 14, 14]               0\n",
            "           Conv2d-47          [-1, 256, 14, 14]         589,824\n",
            "      BatchNorm2d-48          [-1, 256, 14, 14]             512\n",
            "             ReLU-49          [-1, 256, 14, 14]               0\n",
            "       BasicBlock-50          [-1, 256, 14, 14]               0\n",
            "           Conv2d-51            [-1, 512, 7, 7]       1,179,648\n",
            "      BatchNorm2d-52            [-1, 512, 7, 7]           1,024\n",
            "             ReLU-53            [-1, 512, 7, 7]               0\n",
            "           Conv2d-54            [-1, 512, 7, 7]       2,359,296\n",
            "      BatchNorm2d-55            [-1, 512, 7, 7]           1,024\n",
            "           Conv2d-56            [-1, 512, 7, 7]         131,072\n",
            "      BatchNorm2d-57            [-1, 512, 7, 7]           1,024\n",
            "             ReLU-58            [-1, 512, 7, 7]               0\n",
            "       BasicBlock-59            [-1, 512, 7, 7]               0\n",
            "           Conv2d-60            [-1, 512, 7, 7]       2,359,296\n",
            "      BatchNorm2d-61            [-1, 512, 7, 7]           1,024\n",
            "             ReLU-62            [-1, 512, 7, 7]               0\n",
            "           Conv2d-63            [-1, 512, 7, 7]       2,359,296\n",
            "      BatchNorm2d-64            [-1, 512, 7, 7]           1,024\n",
            "             ReLU-65            [-1, 512, 7, 7]               0\n",
            "       BasicBlock-66            [-1, 512, 7, 7]               0\n",
            "AdaptiveAvgPool2d-67            [-1, 512, 1, 1]               0\n",
            "           Linear-68                   [-1, 10]           5,130\n",
            "================================================================\n",
            "Total params: 11,175,370\n",
            "Trainable params: 11,175,370\n",
            "Non-trainable params: 0\n",
            "----------------------------------------------------------------\n",
            "Input size (MB): 0.19\n",
            "Forward/backward pass size (MB): 62.79\n",
            "Params size (MB): 42.63\n",
            "Estimated Total Size (MB): 105.61\n",
            "----------------------------------------------------------------\n"
          ],
          "name": "stdout"
        }
      ]
    },
    {
      "cell_type": "code",
      "metadata": {
        "id": "Fn3cMbfw1kF0",
        "colab_type": "code",
        "colab": {}
      },
      "source": [
        "# Loss and optimizer\n",
        "loss_fn = nn.CrossEntropyLoss().to(device)\n",
        "opt = torch.optim.Adam(resnet18.parameters(), lr=learning_rate)"
      ],
      "execution_count": 0,
      "outputs": []
    },
    {
      "cell_type": "code",
      "metadata": {
        "id": "N4ealTk_4pxV",
        "colab_type": "code",
        "colab": {}
      },
      "source": [
        "# Model fit - Train and validation scores per epoch !\n",
        "train_loss = []\n",
        "valid_loss = []\n",
        "ep, learnrate , err , err_v = [],[],[],[]\n",
        "\n",
        "def fit(epochs, model , train_loader, test_loader, opt, loss_func ):\n",
        "  \n",
        "  model.to(device)\n",
        "  curr_lr = learning_rate\n",
        "  for epoch in range(epochs):\n",
        "    \n",
        "    for i,(xb, yb) in enumerate(train_loader):\n",
        "      # print(xb.shape)\n",
        "      model.train()\n",
        "      opt.zero_grad()\n",
        "      xb,yb = xb.to(device),yb.to(device)\n",
        "\n",
        "      pred = model(xb)\n",
        "      loss = loss_func(pred,yb)\n",
        "      loss.backward()\n",
        "      opt.step()\n",
        "\n",
        "    train_loss.append(loss)\n",
        "      # with torch.no_grad():\n",
        "      #   for p in model.parameters(): p-= p.grad * lr\n",
        "\n",
        "    with torch.no_grad():\n",
        "      for xv,yv in test_loader:\n",
        "        \n",
        "        xv,yv = xv.to(device),yv.to(device)\n",
        "        pred = model(xv)\n",
        "        loss_v = loss_func(pred,yv)\n",
        "        ep = ((torch.argmax(pred,dim = 1) == yv).sum().item())/yv.size(0)\n",
        "      valid_loss.append(loss_v)\n",
        "\n",
        "\n",
        "        # Decay learning rate\n",
        "    if (epoch+1) % 3 == 0:\n",
        "      curr_lr /= 2\n",
        "      update_lr(opt, curr_lr)\n",
        "\n",
        "    \n",
        "    if (epoch+1) % 1 == 0: \n",
        "      print(f\"Epoch{epoch} : Train Loss {loss.item()} , Valid Loss {loss_v.item()}. Accuracy {ep}\")\n",
        "  \n",
        "  return train_loss, valid_loss\n"
      ],
      "execution_count": 0,
      "outputs": []
    },
    {
      "cell_type": "code",
      "metadata": {
        "id": "C0WiFm3TDhaH",
        "colab_type": "code",
        "colab": {}
      },
      "source": [
        "# Training and Validation Loss \n",
        "%time train_loss, valid_loss = fit(10, model, train_loader, test_loader, opt, loss_fn)"
      ],
      "execution_count": 0,
      "outputs": []
    },
    {
      "cell_type": "code",
      "metadata": {
        "id": "HzPa_7U-eO3k",
        "colab_type": "code",
        "colab": {
          "base_uri": "https://localhost:8080/",
          "height": 282
        },
        "outputId": "ef479076-8e4f-466b-8cea-7a0b1743474a"
      },
      "source": [
        "plt.plot(ep, err)\n",
        "plt.plot(ep, err_v)\n"
      ],
      "execution_count": 103,
      "outputs": [
        {
          "output_type": "execute_result",
          "data": {
            "text/plain": [
              "[<matplotlib.lines.Line2D at 0x7fddcd163860>]"
            ]
          },
          "metadata": {
            "tags": []
          },
          "execution_count": 103
        },
        {
          "output_type": "display_data",
          "data": {
            "image/png": "[encoded data removed]",
            "text/plain": [
              "<Figure size 432x288 with 1 Axes>"
            ]
          },
          "metadata": {
            "tags": [],
            "needs_background": "light"
          }
        }
      ]
    },
    {
      "cell_type": "code",
      "metadata": {
        "id": "SSYoxdlielAE",
        "colab_type": "code",
        "colab": {
          "base_uri": "https://localhost:8080/",
          "height": 282
        },
        "outputId": "a511f194-ece2-466f-b02a-809837abebd0"
      },
      "source": [
        "plt.plot(ep, learnrate)"
      ],
      "execution_count": 104,
      "outputs": [
        {
          "output_type": "execute_result",
          "data": {
            "text/plain": [
              "[<matplotlib.lines.Line2D at 0x7fddcd078390>]"
            ]
          },
          "metadata": {
            "tags": []
          },
          "execution_count": 104
        },
        {
          "output_type": "display_data",
          "data": {
            "image/png": "[encoded data removed]",
            "text/plain": [
              "<Figure size 432x288 with 1 Axes>"
            ]
          },
          "metadata": {
            "tags": [],
            "needs_background": "light"
          }
        }
      ]
    },
    {
      "cell_type": "code",
      "metadata": {
        "id": "gZlUUstNx7Gj",
        "colab_type": "code",
        "colab": {}
      },
      "source": [
        "# For updating learning rate\n",
        "def update_lr(optimizer, lr):    \n",
        "    for param_group in optimizer.param_groups:\n",
        "        param_group['lr'] = lr"
      ],
      "execution_count": 0,
      "outputs": []
    },
    {
      "cell_type": "code",
      "metadata": {
        "id": "3i30kNv1WFdc",
        "colab_type": "code",
        "colab": {
          "base_uri": "https://localhost:8080/",
          "height": 34
        },
        "outputId": "5e14c99c-b2e4-4fe6-d7d8-3df4525c6c4d"
      },
      "source": [
        "# Final testing on validation data of 10000 samples. \n",
        "with torch.no_grad():\n",
        "  correct = 0\n",
        "  total = 0\n",
        "  resnet18 = resnet18.to(device)\n",
        "  # print(model)\n",
        "  for xv,yv in test_loader:\n",
        "    xv,yv = xv.to(device),yv.to(device)\n",
        "    pred = resnet18(xv)\n",
        "    # print(pred)\n",
        "    # _, predicted = torch.max(pred.data, 1)\n",
        "    total += yv.size(0)\n",
        "    # print(\"correct per batch\",(torch.argmax(pred,dim = 1) == yv).sum())\n",
        "    correct += (torch.argmax(pred,dim = 1) == yv).sum()\n",
        "    # print(f\"Accuracy per batch is {((torch.argmax(pred,dim = 1) == yv).sum().item())/yv.size(0)}\")\n",
        "  print('Accuracy of the network on the 10000 test images: {} %'.format(100 * correct / total))\n"
      ],
      "execution_count": 90,
      "outputs": [
        {
          "output_type": "stream",
          "text": [
            "Accuracy of the network on the 10000 test images: 99 %\n"
          ],
          "name": "stdout"
        }
      ]
    },
    {
      "cell_type": "code",
      "metadata": {
        "id": "-YoE2cTr8nBx",
        "colab_type": "code",
        "colab": {}
      },
      "source": [
        "from torchvision import models\n",
        "resnet18 = models.resnet18()"
      ],
      "execution_count": 0,
      "outputs": []
    },
    {
      "cell_type": "code",
      "metadata": {
        "id": "yyteq3j_9eW4",
        "colab_type": "code",
        "colab": {}
      },
      "source": [
        "resnet18"
      ],
      "execution_count": 0,
      "outputs": []
    },
    {
      "cell_type": "code",
      "metadata": {
        "id": "2Q-BtMJLJAKl",
        "colab_type": "code",
        "colab": {}
      },
      "source": [
        "resnet18.conv1 = torch.nn.Conv2d(1, 64, kernel_size=(7, 7), stride=(2, 2), padding=(3, 3), bias=False)\n",
        "resnet18.fc = nn.Linear(512,10)"
      ],
      "execution_count": 0,
      "outputs": []
    },
    {
      "cell_type": "code",
      "metadata": {
        "id": "1r8NV3Em-8wh",
        "colab_type": "code",
        "colab": {
          "base_uri": "https://localhost:8080/",
          "height": 170
        },
        "outputId": "c4cefcc8-1938-4543-e967-f0f80bf82be6"
      },
      "source": [
        "%time train_loss, valid_loss = fit(7, resnet18, train_loader, test_loader, opt, loss_fn)"
      ],
      "execution_count": 89,
      "outputs": [
        {
          "output_type": "stream",
          "text": [
            "Epoch0 : Train Loss 0.08438676595687866 , Valid Loss 0.003984034061431885. Accuracy 1.0\n",
            "Epoch1 : Train Loss 0.06326629966497421 , Valid Loss 0.0004735589027404785. Accuracy 1.0\n",
            "Epoch2 : Train Loss 0.03358492627739906 , Valid Loss 0.005784392356872559. Accuracy 1.0\n",
            "Epoch3 : Train Loss 0.008832022547721863 , Valid Loss 8.32676887512207e-05. Accuracy 1.0\n",
            "Epoch4 : Train Loss 0.08781704306602478 , Valid Loss 0.000250011682510376. Accuracy 1.0\n",
            "Epoch5 : Train Loss 0.13686485588550568 , Valid Loss 0.0009900331497192383. Accuracy 1.0\n",
            "Epoch6 : Train Loss 0.00022929906845092773 , Valid Loss 9.834766387939453e-06. Accuracy 1.0\n",
            "CPU times: user 2min 3s, sys: 3.84 s, total: 2min 6s\n",
            "Wall time: 2min 7s\n"
          ],
          "name": "stdout"
        }
      ]
    },
    {
      "cell_type": "code",
      "metadata": {
        "id": "ms5Lx1k26TVf",
        "colab_type": "code",
        "colab": {}
      },
      "source": [
        "import math\n",
        "def find_lr(model, loss_fn, optimizer, init_value=1e-8, final_value=10.0):\n",
        "  number_in_epoch = len(train_loader) - 1\n",
        "  update_step = (final_value / init_value) ** (1 / number_in_epoch)\n",
        "  lr = init_value\n",
        "  optimizer.param_groups[0][\"lr\"] = lr\n",
        "  best_loss = 0.0\n",
        "  batch_num = 0\n",
        "  losses = []\n",
        "  log_lrs = []\n",
        "  model = model.to(device)\n",
        "  for inputs, labels in train_loader:\n",
        "    inputs, labels = inputs.to(device), labels.to(device)\n",
        "    batch_num += 1\n",
        "    optimizer.zero_grad()\n",
        "    outputs = model(inputs)\n",
        "    loss = loss_fn(outputs, labels)\n",
        "  # Crash out if loss explodes\n",
        "    # if batch_num > 1 and loss > 4 * best_loss:\n",
        "    #   print(\"here\")\n",
        "    #   return log_lrs[10:-5], losses[10:-5]\n",
        "    # Record the best loss\n",
        "    if loss < best_loss or batch_num == 1:\n",
        "      best_loss = loss\n",
        "      # Store the values\n",
        "      losses.append(loss)\n",
        "      log_lrs.append(math.log10(lr))\n",
        "      # Do the backward pass and optimize\n",
        "      loss.backward()\n",
        "      optimizer.step()\n",
        "    # Update the lr for the next step and store\n",
        "      lr *= update_step\n",
        "      optimizer.param_groups[0][\"lr\"] = lr\n",
        "  return log_lrs[10:-5], losses[10:-5]"
      ],
      "execution_count": 0,
      "outputs": []
    },
    {
      "cell_type": "code",
      "metadata": {
        "id": "LkdH4Z_Y9IlC",
        "colab_type": "code",
        "colab": {
          "base_uri": "https://localhost:8080/",
          "height": 34
        },
        "outputId": "5e522c66-17e0-4406-c5c7-c397cedd8781"
      },
      "source": [
        "logs"
      ],
      "execution_count": 47,
      "outputs": [
        {
          "output_type": "execute_result",
          "data": {
            "text/plain": [
              "[]"
            ]
          },
          "metadata": {
            "tags": []
          },
          "execution_count": 47
        }
      ]
    },
    {
      "cell_type": "code",
      "metadata": {
        "id": "ffLz8-N08Y1R",
        "colab_type": "code",
        "colab": {}
      },
      "source": [
        "logs,losses = find_lr(resnet18, loss_fn, opt)\n",
        "plt.plot(logs,losses)\n"
      ],
      "execution_count": 0,
      "outputs": []
    }
  ]
}