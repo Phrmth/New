{
  "nbformat": 4,
  "nbformat_minor": 0,
  "metadata": {
    "colab": {
      "name": "Neural Net from scratch on Boston Dataset.ipynb",
      "provenance": [],
      "collapsed_sections": [],
      "authorship_tag": "ABX9TyMnGySU6h4RmZKjxe7vNem2",
      "include_colab_link": true
    },
    "kernelspec": {
      "name": "python3",
      "display_name": "Python 3"
    },
    "accelerator": "GPU"
  },
  "cells": [
    {
      "cell_type": "markdown",
      "metadata": {
        "id": "view-in-github",
        "colab_type": "text"
      },
      "source": [
        "<a href=\"https://colab.research.google.com/github/Phrmth/New/blob/master/Neural_Net_from_scratch_on_Boston_Dataset.ipynb\" target=\"_parent\"><img src=\"https://colab.research.google.com/assets/colab-badge.svg\" alt=\"Open In Colab\"/></a>"
      ]
    },
    {
      "cell_type": "code",
      "metadata": {
        "id": "QCqlXXs_1McO",
        "colab_type": "code",
        "colab": {}
      },
      "source": [
        "# import packages \n",
        "\n",
        "import numpy as np\n",
        "import pandas as pd\n",
        "import matplotlib.pyplot as plt\n",
        "from torch import tensor\n",
        "from torch import nn\n",
        "import torch.nn.functional as F\n",
        "import torch\n",
        "from torch import optim\n",
        "\n",
        "from torch.utils.data import DataLoader, TensorDataset"
      ],
      "execution_count": 0,
      "outputs": []
    },
    {
      "cell_type": "code",
      "metadata": {
        "id": "YKmuFq5A1vaE",
        "colab_type": "code",
        "colab": {
          "base_uri": "https://localhost:8080/",
          "height": 34
        },
        "outputId": "70ce7883-e4d2-49bd-ac6d-9c74650156c0"
      },
      "source": [
        "# Data\n",
        "\n",
        "from sklearn.datasets import load_boston\n",
        "\n",
        "X, y = load_boston(return_X_y=True)\n",
        "X = torch.from_numpy(X.astype(np.float32)); y = torch.from_numpy(y.astype(np.float32)); X.shape, y.shape"
      ],
      "execution_count": 100,
      "outputs": [
        {
          "output_type": "execute_result",
          "data": {
            "text/plain": [
              "(torch.Size([506, 13]), torch.Size([506]))"
            ]
          },
          "metadata": {
            "tags": []
          },
          "execution_count": 100
        }
      ]
    },
    {
      "cell_type": "code",
      "metadata": {
        "id": "wl6uiMLb2IC0",
        "colab_type": "code",
        "colab": {
          "base_uri": "https://localhost:8080/",
          "height": 85
        },
        "outputId": "7f8bc1fc-fe00-426a-e44c-a3f2377b1f1c"
      },
      "source": [
        "# Creating train and validation dataset\n",
        "x_train  = X[0:450]; x_valid = X[450:506] ; y_train = y[0:450]; y_valid = y[450:506]\n",
        "x_train.shape,y_train.shape,x_valid.shape, y_valid.shape"
      ],
      "execution_count": 101,
      "outputs": [
        {
          "output_type": "execute_result",
          "data": {
            "text/plain": [
              "(torch.Size([450, 13]),\n",
              " torch.Size([450]),\n",
              " torch.Size([56, 13]),\n",
              " torch.Size([56]))"
            ]
          },
          "metadata": {
            "tags": []
          },
          "execution_count": 101
        }
      ]
    },
    {
      "cell_type": "code",
      "metadata": {
        "id": "Fn3cMbfw1kF0",
        "colab_type": "code",
        "colab": {}
      },
      "source": [
        "# Normalizing with train data's mean and std \n",
        "\n",
        "def normalize(x, valid = None, test = None ):\n",
        "  x_mean = x.mean(dim = 0)\n",
        "  x_std = x.std(dim = 0 ) \n",
        "  if test : x = valid\n",
        "  return (x - x_mean)/x_std"
      ],
      "execution_count": 0,
      "outputs": []
    },
    {
      "cell_type": "code",
      "metadata": {
        "id": "M0U4dWu-2jbd",
        "colab_type": "code",
        "colab": {
          "base_uri": "https://localhost:8080/",
          "height": 34
        },
        "outputId": "48195b7e-6456-4ba7-cd76-44eaa88fb221"
      },
      "source": [
        "# Normalizing train and valid dataset\n",
        "x_norm = normalize(x_train); x_valid= normalize(x_train,x_valid,True)\n",
        "x_norm.shape, x_valid.shape"
      ],
      "execution_count": 103,
      "outputs": [
        {
          "output_type": "execute_result",
          "data": {
            "text/plain": [
              "(torch.Size([450, 13]), torch.Size([56, 13]))"
            ]
          },
          "metadata": {
            "tags": []
          },
          "execution_count": 103
        }
      ]
    },
    {
      "cell_type": "code",
      "metadata": {
        "id": "q2F0lieEPKHk",
        "colab_type": "code",
        "colab": {
          "base_uri": "https://localhost:8080/",
          "height": 34
        },
        "outputId": "e9a3f71d-fd13-4423-e094-c2ac709092c2"
      },
      "source": [
        "y.mean(),y_valid.mean()"
      ],
      "execution_count": 104,
      "outputs": [
        {
          "output_type": "execute_result",
          "data": {
            "text/plain": [
              "(tensor(22.5328), tensor(18.4286))"
            ]
          },
          "metadata": {
            "tags": []
          },
          "execution_count": 104
        }
      ]
    },
    {
      "cell_type": "code",
      "metadata": {
        "id": "4tv2METW3W71",
        "colab_type": "code",
        "colab": {}
      },
      "source": [
        "dl_train = DataLoader(TensorDataset(x_norm, y_train.view(-1,1)), batch_size = 25, shuffle = True)\n",
        "dl_valid = DataLoader(TensorDataset(x_valid, y_valid.view(-1,1)), batch_size = 56, shuffle = False)"
      ],
      "execution_count": 0,
      "outputs": []
    },
    {
      "cell_type": "code",
      "metadata": {
        "id": "g2VEuF9q4Agq",
        "colab_type": "code",
        "colab": {}
      },
      "source": [
        "if torch.cuda.is_available():\n",
        " device = torch.device(\"cuda\")\n",
        "else : device = torch.device(\"cpu\")"
      ],
      "execution_count": 0,
      "outputs": []
    },
    {
      "cell_type": "code",
      "metadata": {
        "id": "ea9YVkuM4HJ5",
        "colab_type": "code",
        "colab": {}
      },
      "source": [
        "m = x_train.shape[1]\n",
        "nh = 10\n",
        "lr = 1e-2\n",
        "loss_func = nn.MSELoss()\n",
        "def get_model():\n",
        "  Model = nn.Sequential(nn.Linear(m,nh),\n",
        "                        nn.ReLU(),\n",
        "                        nn.Linear(nh,5),\n",
        "                        nn.ReLU(),\n",
        "                        nn.Linear(5,1)\n",
        "                        )\n",
        "  return Model, optim.Adam(Model.parameters(), lr=lr, eps = 1e-7 )"
      ],
      "execution_count": 0,
      "outputs": []
    },
    {
      "cell_type": "code",
      "metadata": {
        "id": "eKQPheLi4dNm",
        "colab_type": "code",
        "colab": {}
      },
      "source": [
        "model, opt = get_model()"
      ],
      "execution_count": 0,
      "outputs": []
    },
    {
      "cell_type": "code",
      "metadata": {
        "id": "teuAgju44j6_",
        "colab_type": "code",
        "colab": {}
      },
      "source": [
        "from torch.nn import init\n",
        "\n",
        "for l in model:\n",
        "  if isinstance(l, nn.Linear):\n",
        "    init.kaiming_normal_(l.weight)"
      ],
      "execution_count": 0,
      "outputs": []
    },
    {
      "cell_type": "code",
      "metadata": {
        "id": "N4ealTk_4pxV",
        "colab_type": "code",
        "colab": {}
      },
      "source": [
        "def fit(epoch, model , dl_train, dl_valid, opt, loss_func ):\n",
        "  train_loss = []\n",
        "  valid_loss = []\n",
        "  loss1 = []\n",
        "  loss2 = []\n",
        "  model.to(device)\n",
        "  for l in range(epoch):\n",
        "    \n",
        "    for xb, yb in dl_train:\n",
        "\n",
        "      model.train()\n",
        "      opt.zero_grad()\n",
        "      xb,yb = xb.to(device),yb.to(device)\n",
        "      pred = model(xb)\n",
        "      loss = loss_func(pred,yb)\n",
        "      loss.backward()\n",
        "\n",
        "      opt.step()\n",
        "      loss1.append(loss)\n",
        "    print(sum(loss1)/len(loss1))\n",
        "      # with torch.no_grad():\n",
        "      #   for p in model.parameters(): p-= p.grad * lr\n",
        "\n",
        "    model.eval()\n",
        "    with torch.no_grad():\n",
        "      for xv,yv in dl_valid:\n",
        "        \n",
        "        xv,yv = xv.to(device),yv.to(device)\n",
        "        pred = model(xv)\n",
        "        loss_v = loss_func(pred,yv)\n",
        "\n",
        "        loss2.append(loss_v)\n",
        "      print(sum(loss2)/len(loss2))\n",
        "\n",
        "      \n",
        "    train_loss.append(loss)\n",
        "    valid_loss.append(loss_v)\n",
        "    print(f\"Epoch{l} : Train Loss {loss}, Valid Loss {loss_v}\")\n",
        "  \n",
        "  return train_loss, valid_loss\n"
      ],
      "execution_count": 0,
      "outputs": []
    },
    {
      "cell_type": "code",
      "metadata": {
        "id": "p6JnsShH5nrD",
        "colab_type": "code",
        "colab": {
          "base_uri": "https://localhost:8080/",
          "height": 1000
        },
        "outputId": "3522d737-8403-4936-809e-97f9d82b1df3"
      },
      "source": [
        "loss , loss_v = fit(25, model, dl_train, dl_valid, opt, loss_func)"
      ],
      "execution_count": 111,
      "outputs": [
        {
          "output_type": "stream",
          "text": [
            "tensor(463.6221, device='cuda:0', grad_fn=<DivBackward0>)\n",
            "tensor(327.2107, device='cuda:0')\n",
            "Epoch0 : Train Loss 291.4832458496094, Valid Loss 327.2106628417969\n",
            "tensor(349.3394, device='cuda:0', grad_fn=<DivBackward0>)\n",
            "tensor(257.8405, device='cuda:0')\n",
            "Epoch1 : Train Loss 138.08982849121094, Valid Loss 188.47032165527344\n",
            "tensor(271.2732, device='cuda:0', grad_fn=<DivBackward0>)\n",
            "tensor(193.8567, device='cuda:0')\n",
            "Epoch2 : Train Loss 96.45905303955078, Valid Loss 65.88895416259766\n",
            "tensor(217.1800, device='cuda:0', grad_fn=<DivBackward0>)\n",
            "tensor(161.7581, device='cuda:0')\n",
            "Epoch3 : Train Loss 40.6922492980957, Valid Loss 65.46256256103516\n",
            "tensor(180.0558, device='cuda:0', grad_fn=<DivBackward0>)\n",
            "tensor(142.8743, device='cuda:0')\n",
            "Epoch4 : Train Loss 24.02202796936035, Valid Loss 67.33894348144531\n",
            "tensor(154.6363, device='cuda:0', grad_fn=<DivBackward0>)\n",
            "tensor(127.5359, device='cuda:0')\n",
            "Epoch5 : Train Loss 9.479389190673828, Valid Loss 50.84415817260742\n",
            "tensor(136.0453, device='cuda:0', grad_fn=<DivBackward0>)\n",
            "tensor(115.8618, device='cuda:0')\n",
            "Epoch6 : Train Loss 11.074259757995605, Valid Loss 45.81694793701172\n",
            "tensor(121.8705, device='cuda:0', grad_fn=<DivBackward0>)\n",
            "tensor(106.6321, device='cuda:0')\n",
            "Epoch7 : Train Loss 38.40904998779297, Valid Loss 42.02461624145508\n",
            "tensor(110.6366, device='cuda:0', grad_fn=<DivBackward0>)\n",
            "tensor(98.9866, device='cuda:0')\n",
            "Epoch8 : Train Loss 27.055490493774414, Valid Loss 37.822364807128906\n",
            "tensor(101.5753, device='cuda:0', grad_fn=<DivBackward0>)\n",
            "tensor(92.7473, device='cuda:0')\n",
            "Epoch9 : Train Loss 14.42355728149414, Valid Loss 36.5930061340332\n",
            "tensor(94.0322, device='cuda:0', grad_fn=<DivBackward0>)\n",
            "tensor(87.3665, device='cuda:0')\n",
            "Epoch10 : Train Loss 5.625311374664307, Valid Loss 33.558433532714844\n",
            "tensor(87.6272, device='cuda:0', grad_fn=<DivBackward0>)\n",
            "tensor(82.8595, device='cuda:0')\n",
            "Epoch11 : Train Loss 21.867855072021484, Valid Loss 33.2830810546875\n",
            "tensor(82.1880, device='cuda:0', grad_fn=<DivBackward0>)\n",
            "tensor(78.8185, device='cuda:0')\n",
            "Epoch12 : Train Loss 6.959649562835693, Valid Loss 30.32597541809082\n",
            "tensor(77.4231, device='cuda:0', grad_fn=<DivBackward0>)\n",
            "tensor(75.3512, device='cuda:0')\n",
            "Epoch13 : Train Loss 17.55896759033203, Valid Loss 30.276107788085938\n",
            "tensor(73.2816, device='cuda:0', grad_fn=<DivBackward0>)\n",
            "tensor(72.1795, device='cuda:0')\n",
            "Epoch14 : Train Loss 27.0115966796875, Valid Loss 27.775924682617188\n",
            "tensor(69.6092, device='cuda:0', grad_fn=<DivBackward0>)\n",
            "tensor(69.4757, device='cuda:0')\n",
            "Epoch15 : Train Loss 6.223594665527344, Valid Loss 28.91937828063965\n",
            "tensor(66.3236, device='cuda:0', grad_fn=<DivBackward0>)\n",
            "tensor(67.0633, device='cuda:0')\n",
            "Epoch16 : Train Loss 15.746064186096191, Valid Loss 28.463809967041016\n",
            "tensor(63.3595, device='cuda:0', grad_fn=<DivBackward0>)\n",
            "tensor(64.7812, device='cuda:0')\n",
            "Epoch17 : Train Loss 5.247007369995117, Valid Loss 25.985448837280273\n",
            "tensor(60.7100, device='cuda:0', grad_fn=<DivBackward0>)\n",
            "tensor(62.8561, device='cuda:0')\n",
            "Epoch18 : Train Loss 5.082455158233643, Valid Loss 28.205080032348633\n",
            "tensor(58.2857, device='cuda:0', grad_fn=<DivBackward0>)\n",
            "tensor(61.0202, device='cuda:0')\n",
            "Epoch19 : Train Loss 6.390017032623291, Valid Loss 26.138254165649414\n",
            "tensor(56.0853, device='cuda:0', grad_fn=<DivBackward0>)\n",
            "tensor(59.4105, device='cuda:0')\n",
            "Epoch20 : Train Loss 9.156767845153809, Valid Loss 27.21731185913086\n",
            "tensor(54.0711, device='cuda:0', grad_fn=<DivBackward0>)\n",
            "tensor(57.9460, device='cuda:0')\n",
            "Epoch21 : Train Loss 9.658469200134277, Valid Loss 27.19157600402832\n",
            "tensor(52.2134, device='cuda:0', grad_fn=<DivBackward0>)\n",
            "tensor(56.6334, device='cuda:0')\n",
            "Epoch22 : Train Loss 10.050172805786133, Valid Loss 27.754549026489258\n",
            "tensor(50.5010, device='cuda:0', grad_fn=<DivBackward0>)\n",
            "tensor(55.4965, device='cuda:0')\n",
            "Epoch23 : Train Loss 7.454982280731201, Valid Loss 29.3479061126709\n",
            "tensor(48.9286, device='cuda:0', grad_fn=<DivBackward0>)\n",
            "tensor(54.4629, device='cuda:0')\n",
            "Epoch24 : Train Loss 4.993720531463623, Valid Loss 29.6571102142334\n"
          ],
          "name": "stdout"
        }
      ]
    },
    {
      "cell_type": "code",
      "metadata": {
        "id": "xb2UUjY-JWVa",
        "colab_type": "code",
        "colab": {
          "base_uri": "https://localhost:8080/",
          "height": 34
        },
        "outputId": "e2fe6ffc-798c-44d6-9a92-19d7a3fa0370"
      },
      "source": [
        "loss_v"
      ],
      "execution_count": 78,
      "outputs": [
        {
          "output_type": "execute_result",
          "data": {
            "text/plain": [
              "[array(154.80185, dtype=float32), array(207.85164, dtype=float32)]"
            ]
          },
          "metadata": {
            "tags": []
          },
          "execution_count": 78
        }
      ]
    },
    {
      "cell_type": "markdown",
      "metadata": {
        "id": "QmHeCe-KSgoH",
        "colab_type": "text"
      },
      "source": [
        "kaiming initialization of weights give a less curvy gradient descent , plot for the last 25 epochs , it took 75 epochs to get the error at this point. \n",
        "\n"
      ]
    },
    {
      "cell_type": "code",
      "metadata": {
        "id": "cr9DoZK9P9q5",
        "colab_type": "code",
        "colab": {
          "base_uri": "https://localhost:8080/",
          "height": 282
        },
        "outputId": "0a04cfad-4fdc-4359-c511-1ae6aca9aaaf"
      },
      "source": [
        "plt.plot(range(25),loss)\n",
        "# plt.plot(range(25),loss_v)"
      ],
      "execution_count": 112,
      "outputs": [
        {
          "output_type": "execute_result",
          "data": {
            "text/plain": [
              "[<matplotlib.lines.Line2D at 0x7f925ab8a9b0>]"
            ]
          },
          "metadata": {
            "tags": []
          },
          "execution_count": 112
        },
        {
          "output_type": "display_data",
          "data": {
            "image/png": "[encoded data removed]",
            "text/plain": [
              "<Figure size 432x288 with 1 Axes>"
            ]
          },
          "metadata": {
            "tags": [],
            "needs_background": "light"
          }
        }
      ]
    },
    {
      "cell_type": "code",
      "metadata": {
        "id": "-JltAOJfjTGm",
        "colab_type": "code",
        "colab": {
          "base_uri": "https://localhost:8080/",
          "height": 265
        },
        "outputId": "fe576322-263e-4c43-9352-2539982af0ee"
      },
      "source": [
        "torch.Tensor.ndim = property(lambda self: len(self.shape))  # Fix it\n",
        "for xv, yv in dl_valid:\n",
        "  model = model.to('cpu')\n",
        "  pred = model(xv)\n",
        "  plt.scatter(pred.detach().numpy(), yv.detach().numpy())"
      ],
      "execution_count": 206,
      "outputs": [
        {
          "output_type": "display_data",
          "data": {
            "image/png": "[encoded data removed]",
            "text/plain": [
              "<Figure size 432x288 with 1 Axes>"
            ]
          },
          "metadata": {
            "tags": [],
            "needs_background": "light"
          }
        }
      ]
    },
    {
      "cell_type": "code",
      "metadata": {
        "id": "4M6IX9k1yQyO",
        "colab_type": "code",
        "colab": {}
      },
      "source": [
        "model.predict()"
      ],
      "execution_count": 0,
      "outputs": []
    }
  ]
}