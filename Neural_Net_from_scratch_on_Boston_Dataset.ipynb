{
  "nbformat": 4,
  "nbformat_minor": 0,
  "metadata": {
    "colab": {
      "name": "Neural Net from scratch on Boston Dataset.ipynb",
      "provenance": [],
      "collapsed_sections": [],
      "authorship_tag": "ABX9TyNO6Md8WaWM41zM1HPkPREj",
      "include_colab_link": true
    },
    "kernelspec": {
      "name": "python3",
      "display_name": "Python 3"
    },
    "accelerator": "GPU"
  },
  "cells": [
    {
      "cell_type": "markdown",
      "metadata": {
        "id": "view-in-github",
        "colab_type": "text"
      },
      "source": [
        "<a href=\"https://colab.research.google.com/github/Phrmth/New/blob/master/Neural_Net_from_scratch_on_Boston_Dataset.ipynb\" target=\"_parent\"><img src=\"https://colab.research.google.com/assets/colab-badge.svg\" alt=\"Open In Colab\"/></a>"
      ]
    },
    {
      "cell_type": "code",
      "metadata": {
        "id": "QCqlXXs_1McO",
        "colab_type": "code",
        "colab": {}
      },
      "source": [
        "# import packages \n",
        "\n",
        "import numpy as np\n",
        "import pandas as pd\n",
        "import matplotlib.pyplot as plt\n",
        "from torch import tensor\n",
        "from torch import nn\n",
        "import torch.nn.functional as F\n",
        "import torch\n",
        "from torch import optim\n",
        "\n",
        "from torch.utils.data import DataLoader, TensorDataset"
      ],
      "execution_count": 0,
      "outputs": []
    },
    {
      "cell_type": "code",
      "metadata": {
        "id": "YKmuFq5A1vaE",
        "colab_type": "code",
        "colab": {
          "base_uri": "https://localhost:8080/",
          "height": 85
        },
        "outputId": "99e8a082-c709-4059-8cc4-8a6908adf4b7"
      },
      "source": [
        "# Data\n",
        "\n",
        "from sklearn.datasets import load_boston\n",
        "\n",
        "X, y = load_boston(return_X_y=True)\n",
        "X = torch.from_numpy(X.astype(np.float32)); y = torch.from_numpy(y.astype(np.float32)); X.shape, y.shape\n",
        "\n",
        "# Creating train and validation dataset\n",
        "x_train  = X[50:506]; x_valid = X[0:50] ; y_train = y[50:506]; y_valid = y[0:50]\n",
        "x_train.shape,y_train.shape,x_valid.shape, y_valid.shape"
      ],
      "execution_count": 85,
      "outputs": [
        {
          "output_type": "execute_result",
          "data": {
            "text/plain": [
              "(torch.Size([456, 13]),\n",
              " torch.Size([456]),\n",
              " torch.Size([50, 13]),\n",
              " torch.Size([50]))"
            ]
          },
          "metadata": {
            "tags": []
          },
          "execution_count": 85
        }
      ]
    },
    {
      "cell_type": "code",
      "metadata": {
        "id": "Fn3cMbfw1kF0",
        "colab_type": "code",
        "colab": {}
      },
      "source": [
        "# Normalizing with train data's mean and std \n",
        "\n",
        "def normalize(x, valid = None, test = None ):\n",
        "  x_mean = x.mean(dim = 0)\n",
        "  x_std = x.std(dim = 0 ) \n",
        "  if test : x = valid\n",
        "  return (x - x_mean)/x_std"
      ],
      "execution_count": 0,
      "outputs": []
    },
    {
      "cell_type": "code",
      "metadata": {
        "id": "M0U4dWu-2jbd",
        "colab_type": "code",
        "colab": {}
      },
      "source": [
        "# Normalizing train and valid dataset\n",
        "x_norm = normalize(x_train); x_valid= normalize(x_train,x_valid,True)\n",
        "x_norm.shape, x_valid.shape\n",
        "\n",
        "dl_train = DataLoader(TensorDataset(x_norm, y_train.view(-1,1)), batch_size = 25, shuffle = True)\n",
        "dl_valid = DataLoader(TensorDataset(x_valid, y_valid.view(-1,1)), batch_size = len(x_valid), shuffle = False)"
      ],
      "execution_count": 0,
      "outputs": []
    },
    {
      "cell_type": "code",
      "metadata": {
        "id": "q2F0lieEPKHk",
        "colab_type": "code",
        "colab": {
          "base_uri": "https://localhost:8080/",
          "height": 34
        },
        "outputId": "551f82ee-877c-4e38-fc23-d003cd26f8d6"
      },
      "source": [
        "y.mean(),y_valid.mean()"
      ],
      "execution_count": 74,
      "outputs": [
        {
          "output_type": "execute_result",
          "data": {
            "text/plain": [
              "(tensor(22.5328), tensor(20.5020))"
            ]
          },
          "metadata": {
            "tags": []
          },
          "execution_count": 74
        }
      ]
    },
    {
      "cell_type": "code",
      "metadata": {
        "id": "g2VEuF9q4Agq",
        "colab_type": "code",
        "colab": {}
      },
      "source": [
        "if torch.cuda.is_available():\n",
        " device = torch.device(\"cuda\")\n",
        "else : device = torch.device(\"cpu\")"
      ],
      "execution_count": 0,
      "outputs": []
    },
    {
      "cell_type": "code",
      "metadata": {
        "id": "ea9YVkuM4HJ5",
        "colab_type": "code",
        "colab": {}
      },
      "source": [
        "m = x_train.shape[1]\n",
        "nh = 10\n",
        "lr = 1e-3\n",
        "loss_func = nn.MSELoss()\n",
        "def get_model():\n",
        "  Model = nn.Sequential(nn.Linear(m,nh),\n",
        "                        nn.ReLU(),\n",
        "                        nn.Linear(nh,nh),\n",
        "                        nn.ReLU(),\n",
        "                        nn.Linear(nh,1)\n",
        "                        )\n",
        "  return Model, optim.Adam(Model.parameters(), lr=lr, eps = 1e-7, weight_decay= .01 )\n",
        "\n",
        "\n",
        "model, opt = get_model()\n",
        "\n",
        "from torch.nn import init\n",
        "\n",
        "for l in model:\n",
        "  if isinstance(l, nn.Linear):\n",
        "    init.kaiming_normal_(l.weight)"
      ],
      "execution_count": 0,
      "outputs": []
    },
    {
      "cell_type": "code",
      "metadata": {
        "id": "N4ealTk_4pxV",
        "colab_type": "code",
        "colab": {}
      },
      "source": [
        "def fit(epoch, model , dl_train, dl_valid, opt, loss_func ):\n",
        "  train_loss = []\n",
        "  valid_loss = []\n",
        "  loss1 = []\n",
        "  loss2 = []\n",
        "  model.to(device)\n",
        "  for l in range(epoch):\n",
        "    \n",
        "    for xb, yb in dl_train:\n",
        "\n",
        "      model.train()\n",
        "      opt.zero_grad()\n",
        "      xb,yb = xb.to(device),yb.to(device)\n",
        "      pred = model(xb)\n",
        "      loss = loss_func(pred,yb)\n",
        "      loss.backward()\n",
        "      opt.step()\n",
        "\n",
        "    train_loss.append(loss)\n",
        "      # with torch.no_grad():\n",
        "      #   for p in model.parameters(): p-= p.grad * lr\n",
        "    if (l+1) % 10 == 0: \n",
        "      print(f\"Epoch{l} : Train Loss {loss.item()} \")# , Valid Loss {loss_v.item()}\")\n",
        "  \n",
        "  with torch.no_grad():\n",
        "      for xv,yv in dl_valid:\n",
        "        \n",
        "        xv,yv = xv.to(device),yv.to(device)\n",
        "        pred = model(xv)\n",
        "        loss_v = loss_func(pred,yv)\n",
        "\n",
        "        loss2.append(loss_v)\n",
        "        print(loss_v)\n",
        "    \n",
        "  return train_loss#, valid_loss\n"
      ],
      "execution_count": 0,
      "outputs": []
    },
    {
      "cell_type": "markdown",
      "metadata": {
        "id": "QmHeCe-KSgoH",
        "colab_type": "text"
      },
      "source": [
        "Losses per batch for every 10th epoch ! \n"
      ]
    },
    {
      "cell_type": "code",
      "metadata": {
        "id": "C0WiFm3TDhaH",
        "colab_type": "code",
        "colab": {
          "base_uri": "https://localhost:8080/",
          "height": 204
        },
        "outputId": "d60a707e-c606-4974-fca7-5ef5ecc93f0e"
      },
      "source": [
        "loss = fit(100, model, dl_train, dl_valid, opt, loss_func)"
      ],
      "execution_count": 136,
      "outputs": [
        {
          "output_type": "stream",
          "text": [
            "Epoch9 : Train Loss 110.72615814208984 \n",
            "Epoch19 : Train Loss 21.5073299407959 \n",
            "Epoch29 : Train Loss 40.345191955566406 \n",
            "Epoch39 : Train Loss 38.44336700439453 \n",
            "Epoch49 : Train Loss 16.105764389038086 \n",
            "Epoch59 : Train Loss 7.685610771179199 \n",
            "Epoch69 : Train Loss 3.8384604454040527 \n",
            "Epoch79 : Train Loss 33.49188995361328 \n",
            "Epoch89 : Train Loss 5.657668113708496 \n",
            "Epoch99 : Train Loss 7.221421718597412 \n",
            "tensor(11.2670, device='cuda:0')\n"
          ],
          "name": "stdout"
        }
      ]
    },
    {
      "cell_type": "code",
      "metadata": {
        "id": "cr9DoZK9P9q5",
        "colab_type": "code",
        "colab": {
          "base_uri": "https://localhost:8080/",
          "height": 312
        },
        "outputId": "38dff4ab-78b7-4e14-90b0-d6b3039a44ca"
      },
      "source": [
        "plt.plot(range(100),loss)\n",
        "#plt.plot(range(100),loss_v)\n",
        "plt.title(\"Training Loss per epoch\")\n",
        "plt.xlabel('Epochs')\n",
        "plt.ylabel('Loss')"
      ],
      "execution_count": 144,
      "outputs": [
        {
          "output_type": "execute_result",
          "data": {
            "text/plain": [
              "Text(0, 0.5, 'Loss')"
            ]
          },
          "metadata": {
            "tags": []
          },
          "execution_count": 144
        },
        {
          "output_type": "display_data",
          "data": {
            "image/png": "[encoded data removed]",
            "text/plain": [
              "<Figure size 432x288 with 1 Axes>"
            ]
          },
          "metadata": {
            "tags": [],
            "needs_background": "light"
          }
        }
      ]
    },
    {
      "cell_type": "code",
      "metadata": {
        "id": "-JltAOJfjTGm",
        "colab_type": "code",
        "colab": {
          "base_uri": "https://localhost:8080/",
          "height": 298
        },
        "outputId": "49ca99c0-ada7-4ce8-c88d-4331017bac00"
      },
      "source": [
        "model = model.to('cpu')\n",
        "predicted = model(x_norm).detach().numpy()\n",
        "plt.scatter(y_train, predicted, label='Train')\n",
        "plt.scatter(y_valid, model(x_valid).detach().numpy(), label='Test')\n",
        "\n",
        "plt.title('Predict and Target Plot')\n",
        "plt.legend(loc=\"upper left\")"
      ],
      "execution_count": 138,
      "outputs": [
        {
          "output_type": "execute_result",
          "data": {
            "text/plain": [
              "<matplotlib.legend.Legend at 0x7f74659915c0>"
            ]
          },
          "metadata": {
            "tags": []
          },
          "execution_count": 138
        },
        {
          "output_type": "display_data",
          "data": {
            "image/png": "[encoded data removed]",
            "text/plain": [
              "<Figure size 432x288 with 1 Axes>"
            ]
          },
          "metadata": {
            "tags": [],
            "needs_background": "light"
          }
        }
      ]
    }
  ]
}